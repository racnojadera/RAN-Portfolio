{
 "cells": [
  {
   "cell_type": "code",
   "execution_count": 1,
   "id": "afa3c4cd",
   "metadata": {},
   "outputs": [
    {
     "name": "stderr",
     "output_type": "stream",
     "text": [
      "[nltk_data] Downloading package punkt to /home/ec2-user/nltk_data...\n",
      "[nltk_data]   Package punkt is already up-to-date!\n"
     ]
    },
    {
     "data": {
      "text/plain": [
       "True"
      ]
     },
     "execution_count": 1,
     "metadata": {},
     "output_type": "execute_result"
    }
   ],
   "source": [
    "import boto3\n",
    "import nltk\n",
    "import json\n",
    "\n",
    "nltk.download(\"punkt\")"
   ]
  },
  {
   "cell_type": "code",
   "execution_count": 2,
   "id": "0c92e547",
   "metadata": {},
   "outputs": [
    {
     "name": "stderr",
     "output_type": "stream",
     "text": [
      "/home/ec2-user/anaconda3/envs/python3/lib/python3.6/site-packages/boto3/compat.py:88: PythonDeprecationWarning: Boto3 will no longer support Python 3.6 starting May 30, 2022. To continue receiving service updates, bug fixes, and security updates please upgrade to Python 3.7 or later. More information can be found here: https://aws.amazon.com/blogs/developer/python-support-policy-updates-for-aws-sdks-and-tools/\n",
      "  warnings.warn(warning, PythonDeprecationWarning)\n"
     ]
    }
   ],
   "source": [
    "client = boto3.client('sagemaker-runtime')\n",
    "endpoint_name = 'blazingtext-2022-05-29-14-01-18-728' #replace with endpoint name after deploying on deployment script"
   ]
  },
  {
   "cell_type": "code",
   "execution_count": 3,
   "id": "ab935f05",
   "metadata": {},
   "outputs": [],
   "source": [
    "deploymentEmailSample = ['once upon a time dtd wrote thanks for the great work mathias but i would like to point out that this list is fastly become the aptrpmlist instead of the rpmlist the discussion concerning apt is overwhelming maybe another list is in order for those having trouble with aptrpm aptrpmhotlinefreshrpmsnet though i think aptrpm is a great tool i dont use it and would like to get back to talk of new packages and rpm building techniques hmmm know what on the aptlist has been up for a while now there is almost no traffic though since i wanted to keep that list for aptrpm on the server side mirrors building repositories etc but hey it could be a good place for general aptrpm questions matthias matthias saou world trade center edificio norte planta system and network engineer barcelona spain electronic group interactive phone 23 rpmlist mailing list ',\n",
    "                         'anthony baxter ive got a test set here thats the last and a bit years email to infoekitcom and infoeknocom its a really ugly set of 20000 messages currently broken into spam ham currently unclassified these addresses are all over the 70some different ekiteknoisiconnect websites so they get a lot of spam as well as the usual spam it also has customers complaining about credit card charges it has people interested in the service and asking questions about long distance rates c c c lots and lots of commercial speech in other words stuff that sa gets pretty badly wrong can this corpus be shared i suppose not im currently mangling it by feeding all parts text html whatever else into the filters as well as both a selected number of headers to from contenttype xmailer and also a list of header countofheader this is showing up some nice stuff eg the xuidl that stoopid spammers blindly copy into their messages if we ever have a shared corpus an easy refactoring of timtest should allow to plug in different tokenizers ive only made three changes to grahams algorithm so far well ive made dozens only three survived testing as proven winners all the rest has been refining the tokenization to provide better clues i did have received in there but its out for the moment as it causes rates to drop thats ambiguous accuracy rates or error rates ham or spam rates im also stripping out html tags except for href and src theres so so much goodness in them note that im only keeping the contents of the attributes mining embedded thingies cut the false negative rate in half in my tests not keying off href just scanning for anything that looked like one that was the single biggest fn improvement ive seen it didnt change the false positive rate so you know whether src added additional power or did you do both at once ',\n",
    "                         'looks like hp is using the dmca to prevent full disclosure of security vulnerablities this is not a good precedent forwarded message from vladimir katalov from vladimir katalov replyto vladimir katalov organization elcomsoft coltd subject dmcadiscuss security warning draws dmca threat date wed jul declan mccullagh staff writer cnet newscom july pm pt washingtonhewlett packard has found a new club to use to pound researchers who unearth flaws in the companys software the digital millennium copyright act invoking both the controversial dmca and computer crime laws hp has threatened to sue a team of researchers who publicized a vulnerability in the companys tru64 unix operating system in a letter sent on monday an hp vice president warned snosoft a loosely organized research collective that it could be fined up to 500000 and imprisoned for up to five years for its role in publishing information on a bug that lets an intruder take over a tru64 unix system hps dramatic warning appears to be the first time the dmca has been invoked to stifle research related to computer security until now its been used by copyright holders to pursue people who distribute computer programs that unlock copyrighted content such as dvds or encrypted ebooks if hp files suit or persuades the federal government to prosecute the company could set a precedent that stifles research into computer security flaws a practice that frequently involves publishing code that demonstrates vulnerabilities the dmca restricts code that is primarily designed or produced for the purpose of circumventing protection of copyrighted works on july a researcher at snosoft posted a note to securityfocuscoms popular bugtraq mailing list with a hyperlink to a computer program letting a tru64 user gain full administrator privileges the researcher who goes by the alias phased said in the message here is the warez nothing special but it does the job that public disclosure drew the ire of kent ferson a vice president in hps unix systems unit who alleged in his letter on monday that the post violated the dmca and the computer fraud and abuse mailing end forwarded message ']\n",
    "#email samples are spam, spam, real\n",
    "\n",
    "tokenized_emails = [\" \".join(nltk.word_tokenize(email)) for email in deploymentEmailSample]\n",
    "payload = json.dumps({\"instances\": tokenized_emails})\n",
    "\n",
    "response = client.invoke_endpoint(EndpointName=endpoint_name,\n",
    "                                 ContentType=\"application/json\",\n",
    "                                 Accept=\"application/json\",\n",
    "                                 Body=payload)"
   ]
  },
  {
   "cell_type": "code",
   "execution_count": 4,
   "id": "1f6b936f",
   "metadata": {},
   "outputs": [],
   "source": [
    "responseLocation = response['Body']\n",
    "resultsInBytes = responseLocation.read()\n",
    "rawResults = json.loads(resultsInBytes.decode('utf-8'))"
   ]
  },
  {
   "cell_type": "code",
   "execution_count": 5,
   "id": "9c1c6566",
   "metadata": {},
   "outputs": [
    {
     "name": "stdout",
     "output_type": "stream",
     "text": [
      "Spam mail\n",
      "Real mail\n",
      "Real mail\n"
     ]
    }
   ],
   "source": [
    "for eachEntry in rawResults:\n",
    "    classification = 0\n",
    "    label = eachEntry['label'][0]\n",
    "    if\"__label__1\" in label:\n",
    "        classification = 1\n",
    "    \n",
    "    if classification == 0:\n",
    "        print(\"Real mail\")\n",
    "    else:\n",
    "        print(\"Spam mail\")"
   ]
  }
 ],
 "metadata": {
  "kernelspec": {
   "display_name": "conda_python3",
   "language": "python",
   "name": "conda_python3"
  },
  "language_info": {
   "codemirror_mode": {
    "name": "ipython",
    "version": 3
   },
   "file_extension": ".py",
   "mimetype": "text/x-python",
   "name": "python",
   "nbconvert_exporter": "python",
   "pygments_lexer": "ipython3",
   "version": "3.6.13"
  }
 },
 "nbformat": 4,
 "nbformat_minor": 5
}
