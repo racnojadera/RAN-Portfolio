{
 "cells": [
  {
   "cell_type": "markdown",
   "id": "e4c8cc85",
   "metadata": {},
   "source": [
    "# Dataset was retrieved from\n",
    "https://www.kaggle.com/datasets/chandramoulinaidu/spam-classification-for-basic-nlp/code\n",
    "\n"
   ]
  },
  {
   "cell_type": "markdown",
   "id": "bfb37ac6",
   "metadata": {},
   "source": [
    " "
   ]
  },
  {
   "cell_type": "markdown",
   "id": "1790f41f",
   "metadata": {},
   "source": [
    "First off, we will be installing libraries as these will be used throughout the implementation of the ML process."
   ]
  },
  {
   "cell_type": "code",
   "execution_count": 1,
   "id": "2faace95",
   "metadata": {},
   "outputs": [],
   "source": [
    "#!pip install matplotlib\n",
    "#!pip install seaborn\n",
    "#!pip install sklearn\n",
    "#!pip install boto3"
   ]
  },
  {
   "cell_type": "markdown",
   "id": "1102e520",
   "metadata": {},
   "source": [
    " "
   ]
  },
  {
   "cell_type": "markdown",
   "id": "e90663c6",
   "metadata": {},
   "source": [
    "Next, we will be importing these libraries to the notebook file to make the functions and processes of each library accessible."
   ]
  },
  {
   "cell_type": "code",
   "execution_count": 2,
   "id": "30aee804",
   "metadata": {},
   "outputs": [
    {
     "name": "stderr",
     "output_type": "stream",
     "text": [
      "[nltk_data] Downloading package punkt to /home/ec2-user/nltk_data...\n",
      "[nltk_data]   Package punkt is already up-to-date!\n"
     ]
    }
   ],
   "source": [
    "import numpy as np\n",
    "import pandas as pd\n",
    "import matplotlib.pyplot as plt\n",
    "import seaborn as sns\n",
    "import time\n",
    "import sagemaker\n",
    "import json\n",
    "import nltk\n",
    "nltk.download(\"punkt\")\n",
    "\n",
    "import sklearn\n",
    "from sklearn.model_selection import train_test_split\n",
    "from sklearn.feature_extraction.text import CountVectorizer\n",
    "\n",
    "from sagemaker import get_execution_role\n",
    "from sagemaker.amazon.amazon_estimator import image_uris\n",
    "\n",
    "%matplotlib inline"
   ]
  },
  {
   "cell_type": "markdown",
   "id": "2e36c9c8",
   "metadata": {},
   "source": [
    " "
   ]
  },
  {
   "cell_type": "markdown",
   "id": "d4599473",
   "metadata": {},
   "source": [
    "Next would be importing the dataset (as csv) from amazon s3 into the notebook file."
   ]
  },
  {
   "cell_type": "code",
   "execution_count": 3,
   "id": "68c63f7a",
   "metadata": {},
   "outputs": [
    {
     "name": "stderr",
     "output_type": "stream",
     "text": [
      "/home/ec2-user/anaconda3/envs/python3/lib/python3.6/site-packages/boto3/compat.py:88: PythonDeprecationWarning: Boto3 will no longer support Python 3.6 starting May 30, 2022. To continue receiving service updates, bug fixes, and security updates please upgrade to Python 3.7 or later. More information can be found here: https://aws.amazon.com/blogs/developer/python-support-policy-updates-for-aws-sdks-and-tools/\n",
      "  warnings.warn(warning, PythonDeprecationWarning)\n"
     ]
    }
   ],
   "source": [
    "import pickle\n",
    "import boto3\n",
    "import io\n",
    "\n",
    "my_bucket = 'iscs-3020-dataset'\n",
    "my_file = 'Spam Email raw text for NLP.csv'\n",
    "s3client = boto3.client('s3')\n",
    "response = s3client.get_object(Bucket=my_bucket, Key=my_file)\n",
    "data = pd.read_csv(io.BytesIO(response['Body'].read()))"
   ]
  },
  {
   "cell_type": "markdown",
   "id": "bbf9a5b6",
   "metadata": {},
   "source": [
    " "
   ]
  },
  {
   "cell_type": "markdown",
   "id": "bd30c3a2",
   "metadata": {},
   "source": [
    "For the next couple of lines, we will be checking the shape of the dataset through shape (instances, features), checking for null values, and checking a few of the values that are in the dataset. We will also be checking how the dataset is distributed -- how much are spam emails and how much are non-spam emails through it's feature 'category', which will be visualized by matplotlib"
   ]
  },
  {
   "cell_type": "code",
   "execution_count": 4,
   "id": "d07f3229",
   "metadata": {},
   "outputs": [
    {
     "name": "stdout",
     "output_type": "stream",
     "text": [
      "(5796, 3)\n"
     ]
    }
   ],
   "source": [
    "#checking the shape\n",
    "print(data.shape)"
   ]
  },
  {
   "cell_type": "code",
   "execution_count": 5,
   "id": "8907d60f",
   "metadata": {},
   "outputs": [
    {
     "data": {
      "text/plain": [
       "CATEGORY     0\n",
       "MESSAGE      0\n",
       "FILE_NAME    0\n",
       "dtype: int64"
      ]
     },
     "execution_count": 5,
     "metadata": {},
     "output_type": "execute_result"
    }
   ],
   "source": [
    "#checking for null values\n",
    "data.isna().sum()"
   ]
  },
  {
   "cell_type": "code",
   "execution_count": 6,
   "id": "1ec5ab28",
   "metadata": {},
   "outputs": [
    {
     "data": {
      "text/html": [
       "<div>\n",
       "<style scoped>\n",
       "    .dataframe tbody tr th:only-of-type {\n",
       "        vertical-align: middle;\n",
       "    }\n",
       "\n",
       "    .dataframe tbody tr th {\n",
       "        vertical-align: top;\n",
       "    }\n",
       "\n",
       "    .dataframe thead th {\n",
       "        text-align: right;\n",
       "    }\n",
       "</style>\n",
       "<table border=\"1\" class=\"dataframe\">\n",
       "  <thead>\n",
       "    <tr style=\"text-align: right;\">\n",
       "      <th></th>\n",
       "      <th>CATEGORY</th>\n",
       "      <th>MESSAGE</th>\n",
       "      <th>FILE_NAME</th>\n",
       "    </tr>\n",
       "  </thead>\n",
       "  <tbody>\n",
       "    <tr>\n",
       "      <th>0</th>\n",
       "      <td>1</td>\n",
       "      <td>Dear Homeowner,\\n\\n \\n\\nInterest Rates are at ...</td>\n",
       "      <td>00249.5f45607c1bffe89f60ba1ec9f878039a</td>\n",
       "    </tr>\n",
       "    <tr>\n",
       "      <th>1</th>\n",
       "      <td>1</td>\n",
       "      <td>ATTENTION: This is a MUST for ALL Computer Use...</td>\n",
       "      <td>00373.ebe8670ac56b04125c25100a36ab0510</td>\n",
       "    </tr>\n",
       "    <tr>\n",
       "      <th>2</th>\n",
       "      <td>1</td>\n",
       "      <td>This is a multi-part message in MIME format.\\n...</td>\n",
       "      <td>00214.1367039e50dc6b7adb0f2aa8aba83216</td>\n",
       "    </tr>\n",
       "    <tr>\n",
       "      <th>3</th>\n",
       "      <td>1</td>\n",
       "      <td>IMPORTANT INFORMATION:\\n\\n\\n\\nThe new domain n...</td>\n",
       "      <td>00210.050ffd105bd4e006771ee63cabc59978</td>\n",
       "    </tr>\n",
       "    <tr>\n",
       "      <th>4</th>\n",
       "      <td>1</td>\n",
       "      <td>This is the bottom line.  If you can GIVE AWAY...</td>\n",
       "      <td>00033.9babb58d9298daa2963d4f514193d7d6</td>\n",
       "    </tr>\n",
       "  </tbody>\n",
       "</table>\n",
       "</div>"
      ],
      "text/plain": [
       "   CATEGORY                                            MESSAGE  \\\n",
       "0         1  Dear Homeowner,\\n\\n \\n\\nInterest Rates are at ...   \n",
       "1         1  ATTENTION: This is a MUST for ALL Computer Use...   \n",
       "2         1  This is a multi-part message in MIME format.\\n...   \n",
       "3         1  IMPORTANT INFORMATION:\\n\\n\\n\\nThe new domain n...   \n",
       "4         1  This is the bottom line.  If you can GIVE AWAY...   \n",
       "\n",
       "                                FILE_NAME  \n",
       "0  00249.5f45607c1bffe89f60ba1ec9f878039a  \n",
       "1  00373.ebe8670ac56b04125c25100a36ab0510  \n",
       "2  00214.1367039e50dc6b7adb0f2aa8aba83216  \n",
       "3  00210.050ffd105bd4e006771ee63cabc59978  \n",
       "4  00033.9babb58d9298daa2963d4f514193d7d6  "
      ]
     },
     "execution_count": 6,
     "metadata": {},
     "output_type": "execute_result"
    }
   ],
   "source": [
    "#checking for the first few lines/entries in the dataset\n",
    "data.head()"
   ]
  },
  {
   "cell_type": "markdown",
   "id": "34265467",
   "metadata": {},
   "source": [
    " "
   ]
  },
  {
   "cell_type": "code",
   "execution_count": 7,
   "id": "1b90f07c",
   "metadata": {
    "scrolled": true
   },
   "outputs": [
    {
     "data": {
      "image/png": "[encoded data removed]",
      "text/plain": [
       "<Figure size 1800x1800 with 1 Axes>"
      ]
     },
     "metadata": {},
     "output_type": "display_data"
    }
   ],
   "source": [
    "#checking data distribution\n",
    "pieChartLabels = ['Spam', 'Non-Spam']\n",
    "sizeOfDataSet = [data.CATEGORY.value_counts()[1], data.CATEGORY.value_counts()[0]]\n",
    "plt.figure(figsize=(6,6), dpi = 300)\n",
    "plt.pie(sizeOfDataSet, labels=pieChartLabels, textprops={'fontsize':16}, startangle=90, autopct='%1.1f%%',\n",
    "       explode=[0,0.05])\n",
    "plt.show()"
   ]
  },
  {
   "cell_type": "markdown",
   "id": "c3140f92",
   "metadata": {},
   "source": [
    " "
   ]
  },
  {
   "cell_type": "markdown",
   "id": "8c3a35f0",
   "metadata": {},
   "source": [
    "# Data Pre-processing\n",
    "In this part, we will be preprocesing the data to make sure that the input to the machine will be as straightforward as possible. This includes removing special characters/symbols in the text, removing duplicate entries through the feature 'FILE_NAME'."
   ]
  },
  {
   "cell_type": "code",
   "execution_count": 8,
   "id": "45f722ba",
   "metadata": {},
   "outputs": [],
   "source": [
    "#removes duplicate data (if ever) in the dataset through checking the uniqueness of values under the feature 'FILE_NAME'\n",
    "df = data\n",
    "df = df.reset_index()\n",
    "\n",
    "uniqueFileName = []\n",
    "indexedMessageAttribute = []\n",
    "indexedCategoryAttribute = []\n",
    "for index, row in df.iterrows():\n",
    "    if row['FILE_NAME'] in uniqueFileName:\n",
    "        continue\n",
    "    else:\n",
    "        indexedMessageAttribute.append(row['MESSAGE'])\n",
    "        indexedCategoryAttribute.append(row['CATEGORY'])\n",
    "        uniqueFileName.append(row['FILE_NAME'])"
   ]
  },
  {
   "cell_type": "code",
   "execution_count": 9,
   "id": "008d26d0",
   "metadata": {},
   "outputs": [],
   "source": [
    "#creates a method in cleaning the text or inputs under the feature 'MESSAGE'\n",
    "def CleanMessage(stringInput):\n",
    "    tag = False\n",
    "    punctuations = '''!()-+=[]{};:'\"\\,./?@#$%^&*_~'''\n",
    "    stringOutput = ''\n",
    "    stringInputList = stringInput.split(\" \")\n",
    "    \n",
    "    for i in stringInputList: \n",
    "        stringTemp = ''\n",
    "        for char in i:\n",
    "            if char not in punctuations:\n",
    "                stringTemp += char;\n",
    "        stringTemp = stringTemp.lower()\n",
    "        \n",
    "        if stringTemp.isnumeric():\n",
    "            stringTemp = ''\n",
    "        if '\\n' in stringTemp:\n",
    "            stringTemp = stringTemp.replace(\"\\n\", \" \")\n",
    "        if 'http' in stringTemp:\n",
    "            stringTemp = ''\n",
    "\n",
    "        if tag:\n",
    "            stringOutput = stringOutput\n",
    "        else:\n",
    "            stringOutput += stringTemp + \" \"\n",
    "    \n",
    "    returnString = ''\n",
    "    for char in stringOutput:\n",
    "        if char == \"<\":\n",
    "            tag = True\n",
    "        elif char == \">\":\n",
    "            tag = False\n",
    "            continue\n",
    "        if char == \" \":\n",
    "            if (len(returnString) > 1) and returnString[-1] == \" \":\n",
    "                char = ''\n",
    "        if not tag:\n",
    "            returnString += char\n",
    "    \n",
    "    return returnString"
   ]
  },
  {
   "cell_type": "code",
   "execution_count": 10,
   "id": "09bb9900",
   "metadata": {},
   "outputs": [],
   "source": [
    "cleanedMessage = []\n",
    "for entry in indexedMessageAttribute:\n",
    "    cleanedMessage.append(CleanMessage(entry))"
   ]
  },
  {
   "cell_type": "code",
   "execution_count": 11,
   "id": "703edb51",
   "metadata": {},
   "outputs": [],
   "source": [
    "toData = []\n",
    "for appearances in cleanedMessage:\n",
    "    if indexedCategoryAttribute[cleanedMessage.index(appearances)] == 0:\n",
    "        toData.append([\"__label__0\", appearances])\n",
    "    else:\n",
    "        toData.append([\"__label__1\", appearances])"
   ]
  },
  {
   "cell_type": "code",
   "execution_count": 12,
   "id": "5791f5c1",
   "metadata": {},
   "outputs": [],
   "source": [
    "newData = pd.DataFrame(toData, columns = ['CATEGORY', 'MESSAGE'])\n",
    "ndf = newData\n",
    "ndf = ndf.reset_index()"
   ]
  },
  {
   "cell_type": "code",
   "execution_count": 13,
   "id": "8f1eff2c",
   "metadata": {},
   "outputs": [
    {
     "data": {
      "text/plain": [
       "(5796, 2)"
      ]
     },
     "execution_count": 13,
     "metadata": {},
     "output_type": "execute_result"
    }
   ],
   "source": [
    "newData.shape"
   ]
  },
  {
   "cell_type": "code",
   "execution_count": 14,
   "id": "36f1bf37",
   "metadata": {},
   "outputs": [
    {
     "data": {
      "text/html": [
       "<div>\n",
       "<style scoped>\n",
       "    .dataframe tbody tr th:only-of-type {\n",
       "        vertical-align: middle;\n",
       "    }\n",
       "\n",
       "    .dataframe tbody tr th {\n",
       "        vertical-align: top;\n",
       "    }\n",
       "\n",
       "    .dataframe thead th {\n",
       "        text-align: right;\n",
       "    }\n",
       "</style>\n",
       "<table border=\"1\" class=\"dataframe\">\n",
       "  <thead>\n",
       "    <tr style=\"text-align: right;\">\n",
       "      <th></th>\n",
       "      <th>CATEGORY</th>\n",
       "      <th>MESSAGE</th>\n",
       "    </tr>\n",
       "  </thead>\n",
       "  <tbody>\n",
       "    <tr>\n",
       "      <th>0</th>\n",
       "      <td>__label__1</td>\n",
       "      <td>dear homeowner interest rates are at their low...</td>\n",
       "    </tr>\n",
       "    <tr>\n",
       "      <th>1</th>\n",
       "      <td>__label__1</td>\n",
       "      <td>attention this is a must for all computer user...</td>\n",
       "    </tr>\n",
       "    <tr>\n",
       "      <th>2</th>\n",
       "      <td>__label__1</td>\n",
       "      <td>this is a multipart message in mime format nex...</td>\n",
       "    </tr>\n",
       "    <tr>\n",
       "      <th>3</th>\n",
       "      <td>__label__1</td>\n",
       "      <td>important information the new domain names are...</td>\n",
       "    </tr>\n",
       "    <tr>\n",
       "      <th>4</th>\n",
       "      <td>__label__1</td>\n",
       "      <td>this is the bottom line if you can give away c...</td>\n",
       "    </tr>\n",
       "  </tbody>\n",
       "</table>\n",
       "</div>"
      ],
      "text/plain": [
       "     CATEGORY                                            MESSAGE\n",
       "0  __label__1  dear homeowner interest rates are at their low...\n",
       "1  __label__1  attention this is a must for all computer user...\n",
       "2  __label__1  this is a multipart message in mime format nex...\n",
       "3  __label__1  important information the new domain names are...\n",
       "4  __label__1  this is the bottom line if you can give away c..."
      ]
     },
     "execution_count": 14,
     "metadata": {},
     "output_type": "execute_result"
    }
   ],
   "source": [
    "newData.head()"
   ]
  },
  {
   "cell_type": "code",
   "execution_count": 15,
   "id": "2cbac4c8",
   "metadata": {},
   "outputs": [],
   "source": [
    "#separates the spam from the non-spams for visualization of the top words in each category\n",
    "spamList = []\n",
    "nonSpamList = []\n",
    "\n",
    "for index, row in ndf.iterrows():\n",
    "    if(row['CATEGORY'] == \"__label__1\"):\n",
    "        spamList.append(row['MESSAGE'])\n",
    "    else:\n",
    "        nonSpamList.append(row['MESSAGE'])"
   ]
  },
  {
   "cell_type": "code",
   "execution_count": 16,
   "id": "c9db46fe",
   "metadata": {},
   "outputs": [],
   "source": [
    "#creates a method/function that checks the top 10 words which are used by the list of words, implemented through the bag of words model\n",
    "def GetTop10Results(listOfWords):\n",
    "    vec = CountVectorizer().fit(listOfWords)\n",
    "    bagOfWords = vec.transform(listOfWords)\n",
    "    sumWords = bagOfWords.sum(axis = 0)\n",
    "    wordsFrequency = [(word, sumWords[0, idx]) for word, idx in vec.vocabulary_.items()]\n",
    "    wordsFrequency = sorted(wordsFrequency, key = lambda x: x[1], reverse = True)\n",
    "    return wordsFrequency[:10]"
   ]
  },
  {
   "cell_type": "code",
   "execution_count": 17,
   "id": "384f00c7",
   "metadata": {},
   "outputs": [
    {
     "data": {
      "image/png": "[encoded data removed]",
      "text/plain": [
       "<Figure size 1080x432 with 1 Axes>"
      ]
     },
     "metadata": {
      "needs_background": "light"
     },
     "output_type": "display_data"
    }
   ],
   "source": [
    "#checks the top 10 words that spam emails use and creates a visualization through matplotlib\n",
    "commonWords = GetTop10Results(spamList)\n",
    "top10Data = pd.DataFrame(commonWords, columns = ['WORD', 'COUNT'])\n",
    "plt.figure(figsize=(15,6))\n",
    "sns.barplot(data = top10Data.reset_index(), x = 'WORD', y = 'COUNT')\n",
    "plt.title('Top 10 Words for Spam Emails')\n",
    "plt.show()"
   ]
  },
  {
   "cell_type": "code",
   "execution_count": 18,
   "id": "b973af20",
   "metadata": {},
   "outputs": [
    {
     "data": {
      "image/png": "[encoded data removed]",
      "text/plain": [
       "<Figure size 1080x432 with 1 Axes>"
      ]
     },
     "metadata": {
      "needs_background": "light"
     },
     "output_type": "display_data"
    }
   ],
   "source": [
    "#checks the top 10 words that non-spam emails use\n",
    "commonWords = GetTop10Results(nonSpamList)\n",
    "top10Data = pd.DataFrame(commonWords, columns = ['WORD', 'COUNT'])\n",
    "plt.figure(figsize=(15,6))\n",
    "sns.barplot(data = top10Data.reset_index(), x = 'WORD', y = 'COUNT')\n",
    "plt.title('Top 10 Words for Non-Spam Emails')\n",
    "plt.show()"
   ]
  },
  {
   "cell_type": "code",
   "execution_count": 19,
   "id": "62f5e0c9",
   "metadata": {},
   "outputs": [
    {
     "data": {
      "text/html": [
       "<div>\n",
       "<style scoped>\n",
       "    .dataframe tbody tr th:only-of-type {\n",
       "        vertical-align: middle;\n",
       "    }\n",
       "\n",
       "    .dataframe tbody tr th {\n",
       "        vertical-align: top;\n",
       "    }\n",
       "\n",
       "    .dataframe thead th {\n",
       "        text-align: right;\n",
       "    }\n",
       "</style>\n",
       "<table border=\"1\" class=\"dataframe\">\n",
       "  <thead>\n",
       "    <tr style=\"text-align: right;\">\n",
       "      <th></th>\n",
       "      <th>CATEGORY</th>\n",
       "      <th>MESSAGE</th>\n",
       "    </tr>\n",
       "  </thead>\n",
       "  <tbody>\n",
       "    <tr>\n",
       "      <th>0</th>\n",
       "      <td>__label__1</td>\n",
       "      <td>dear homeowner interest rates are at their low...</td>\n",
       "    </tr>\n",
       "    <tr>\n",
       "      <th>1</th>\n",
       "      <td>__label__1</td>\n",
       "      <td>attention this is a must for all computer user...</td>\n",
       "    </tr>\n",
       "    <tr>\n",
       "      <th>2</th>\n",
       "      <td>__label__1</td>\n",
       "      <td>this is a multipart message in mime format nex...</td>\n",
       "    </tr>\n",
       "    <tr>\n",
       "      <th>3</th>\n",
       "      <td>__label__1</td>\n",
       "      <td>important information the new domain names are...</td>\n",
       "    </tr>\n",
       "    <tr>\n",
       "      <th>4</th>\n",
       "      <td>__label__1</td>\n",
       "      <td>this is the bottom line if you can give away c...</td>\n",
       "    </tr>\n",
       "    <tr>\n",
       "      <th>...</th>\n",
       "      <td>...</td>\n",
       "      <td>...</td>\n",
       "    </tr>\n",
       "    <tr>\n",
       "      <th>5791</th>\n",
       "      <td>__label__0</td>\n",
       "      <td>im one of the but its not working very well th...</td>\n",
       "    </tr>\n",
       "    <tr>\n",
       "      <th>5792</th>\n",
       "      <td>__label__0</td>\n",
       "      <td>damien morton quoted w3c approves html emotita...</td>\n",
       "    </tr>\n",
       "    <tr>\n",
       "      <th>5793</th>\n",
       "      <td>__label__0</td>\n",
       "      <td>on mon at che wrote thats the correct lines to...</td>\n",
       "    </tr>\n",
       "    <tr>\n",
       "      <th>5794</th>\n",
       "      <td>__label__0</td>\n",
       "      <td>once upon a time manfred wrote i would like to...</td>\n",
       "    </tr>\n",
       "    <tr>\n",
       "      <th>5795</th>\n",
       "      <td>__label__0</td>\n",
       "      <td>if you run pick and then use the new ftoc butt...</td>\n",
       "    </tr>\n",
       "  </tbody>\n",
       "</table>\n",
       "<p>5796 rows × 2 columns</p>\n",
       "</div>"
      ],
      "text/plain": [
       "        CATEGORY                                            MESSAGE\n",
       "0     __label__1  dear homeowner interest rates are at their low...\n",
       "1     __label__1  attention this is a must for all computer user...\n",
       "2     __label__1  this is a multipart message in mime format nex...\n",
       "3     __label__1  important information the new domain names are...\n",
       "4     __label__1  this is the bottom line if you can give away c...\n",
       "...          ...                                                ...\n",
       "5791  __label__0  im one of the but its not working very well th...\n",
       "5792  __label__0  damien morton quoted w3c approves html emotita...\n",
       "5793  __label__0  on mon at che wrote thats the correct lines to...\n",
       "5794  __label__0  once upon a time manfred wrote i would like to...\n",
       "5795  __label__0  if you run pick and then use the new ftoc butt...\n",
       "\n",
       "[5796 rows x 2 columns]"
      ]
     },
     "execution_count": 19,
     "metadata": {},
     "output_type": "execute_result"
    }
   ],
   "source": [
    "newData"
   ]
  },
  {
   "cell_type": "code",
   "execution_count": 20,
   "id": "5ca12017",
   "metadata": {},
   "outputs": [],
   "source": [
    "trainSpam, testSpam = train_test_split(newData,\n",
    "                                           test_size=0.2,\n",
    "                                           stratify=newData['CATEGORY'])"
   ]
  },
  {
   "cell_type": "code",
   "execution_count": 21,
   "id": "32d502c8",
   "metadata": {},
   "outputs": [],
   "source": [
    "trainSpam.to_csv('Train Spam Emails.csv', index=False, header=True)\n",
    "testSpam.to_csv('Test Spam Emails.csv', index=False, header=True)"
   ]
  },
  {
   "cell_type": "markdown",
   "id": "f9883768",
   "metadata": {},
   "source": [
    " "
   ]
  },
  {
   "cell_type": "markdown",
   "id": "8c14fb4d",
   "metadata": {},
   "source": [
    "# Model Training"
   ]
  },
  {
   "cell_type": "code",
   "execution_count": 22,
   "id": "08a8a058",
   "metadata": {},
   "outputs": [],
   "source": [
    "sess = sagemaker.Session()\n",
    "role = get_execution_role()\n",
    "#my_bucket = 'iscs-3020-dataset'\n",
    "prefix = \"blazingtext/supervised\"\n",
    "\n",
    "region_name = boto3.Session().region_name\n",
    "container = image_uris.retrieve('blazingtext', boto3.Session().region_name)"
   ]
  },
  {
   "cell_type": "code",
   "execution_count": 23,
   "id": "b82f8fef",
   "metadata": {},
   "outputs": [],
   "source": [
    "trainChannel = prefix + \"/train\"\n",
    "validationChannel = prefix + \"/validation\"\n",
    "\n",
    "sess.upload_data(path=\"Train Spam Emails.csv\", bucket=my_bucket, key_prefix=trainChannel)\n",
    "sess.upload_data(path=\"Test Spam Emails.csv\", bucket=my_bucket, key_prefix=validationChannel)\n",
    "\n",
    "s3_train_data = 's3://{}/{}'.format(my_bucket, trainChannel)\n",
    "s3_validation_data = 's3://{}/{}'.format(my_bucket, validationChannel)"
   ]
  },
  {
   "cell_type": "code",
   "execution_count": 24,
   "id": "1d06bb94",
   "metadata": {},
   "outputs": [],
   "source": [
    "s3_output_location = 's3://{}/{}/output'.format(my_bucket, prefix)"
   ]
  },
  {
   "cell_type": "code",
   "execution_count": 25,
   "id": "7fdb3696",
   "metadata": {},
   "outputs": [],
   "source": [
    "bt_model = sagemaker.estimator.Estimator(\n",
    "    container,\n",
    "    role,\n",
    "    instance_count=1,\n",
    "    instance_type='ml.c5.xlarge',\n",
    "    volume_size=11,\n",
    "    max_run=5000,\n",
    "    output_path=s3_output_location\n",
    ")"
   ]
  },
  {
   "cell_type": "code",
   "execution_count": 26,
   "id": "24b1de90",
   "metadata": {},
   "outputs": [],
   "source": [
    "bt_model.set_hyperparameters(\n",
    "    mode=\"supervised\",\n",
    "    epochs=1,\n",
    "    min_count=2,\n",
    "    learning_rate=0.01,\n",
    "    vector_dim=3,\n",
    "    early_stopping=True,\n",
    "    patience=2,\n",
    "    min_epochs=5,\n",
    "    word_ngrams=2\n",
    ")"
   ]
  },
  {
   "cell_type": "code",
   "execution_count": 27,
   "id": "13df707e",
   "metadata": {},
   "outputs": [],
   "source": [
    "train_data = sagemaker.inputs.TrainingInput(\n",
    "    s3_train_data,\n",
    "    distribution=\"FullyReplicated\",\n",
    "    content_type=\"text/plain\",\n",
    "    s3_data_type=\"S3Prefix\",\n",
    ")\n",
    "\n",
    "validation_data = sagemaker.inputs.TrainingInput(\n",
    "    s3_validation_data,\n",
    "    distribution=\"FullyReplicated\",\n",
    "    content_type=\"text/plain\",\n",
    "    s3_data_type=\"S3Prefix\",\n",
    ")\n",
    "data_channels = {'train': train_data, \"validation\": validation_data}"
   ]
  },
  {
   "cell_type": "code",
   "execution_count": 28,
   "id": "777ef348",
   "metadata": {},
   "outputs": [
    {
     "name": "stdout",
     "output_type": "stream",
     "text": [
      "2022-05-29 13:51:48 Starting - Starting the training job...\n",
      "2022-05-29 13:52:12 Starting - Preparing the instances for trainingProfilerReport-1653832308: InProgress\n",
      "......\n",
      "2022-05-29 13:53:13 Downloading - Downloading input data...\n",
      "2022-05-29 13:53:44 Training - Training image download completed. Training in progress..\u001b[34mArguments: train\u001b[0m\n",
      "\u001b[34m[05/29/2022 13:53:47 WARNING 139909038065472] Loggers have already been setup.\u001b[0m\n",
      "\u001b[34m[05/29/2022 13:53:47 WARNING 139909038065472] Loggers have already been setup.\u001b[0m\n",
      "\u001b[34m[05/29/2022 13:53:47 INFO 139909038065472] nvidia-smi took: 0.025226116180419922 secs to identify 0 gpus\u001b[0m\n",
      "\u001b[34m[05/29/2022 13:53:47 INFO 139909038065472] Running single machine CPU BlazingText training using supervised mode.\u001b[0m\n",
      "\u001b[34mNumber of CPU sockets found in instance is  1\u001b[0m\n",
      "\u001b[34m[05/29/2022 13:53:47 INFO 139909038065472] Processing /opt/ml/input/data/train/Train Spam Emails.csv . File size: 7.585992813110352 MB\u001b[0m\n",
      "\u001b[34m[05/29/2022 13:53:47 INFO 139909038065472] Processing /opt/ml/input/data/validation/Test Spam Emails.csv . File size: 1.8133172988891602 MB\u001b[0m\n",
      "\u001b[34mRead 1M words\u001b[0m\n",
      "\u001b[34mNumber of words:  30926\u001b[0m\n",
      "\u001b[34mLoading validation data from /opt/ml/input/data/validation/Test Spam Emails.csv\u001b[0m\n",
      "\u001b[34mLoaded validation data.\u001b[0m\n",
      "\u001b[34m##### Alpha: -0.0000  Progress: 100.06%  Million Words/sec: 5.41 #####\u001b[0m\n",
      "\u001b[34m-------------- End of epoch: 1\u001b[0m\n",
      "\u001b[34m##### Alpha: 0.0000  Progress: 100.00%  Million Words/sec: 5.40 #####\u001b[0m\n",
      "\u001b[34mTraining finished.\u001b[0m\n",
      "\u001b[34mAverage throughput in Million words/sec: 5.40\u001b[0m\n",
      "\u001b[34mTotal training time in seconds: 0.21\u001b[0m\n",
      "\u001b[34m#train_accuracy: 0.1531\u001b[0m\n",
      "\u001b[34mNumber of train examples: 4636\u001b[0m\n",
      "\u001b[34m#validation_accuracy: 0.1615\u001b[0m\n",
      "\u001b[34mNumber of validation examples: 1034\u001b[0m\n",
      "\n",
      "2022-05-29 13:54:12 Uploading - Uploading generated training model\n",
      "2022-05-29 13:54:12 Completed - Training job completed\n",
      "Training seconds: 57\n",
      "Billable seconds: 57\n"
     ]
    }
   ],
   "source": [
    "bt_model.fit(inputs=data_channels, logs=True)"
   ]
  },
  {
   "cell_type": "markdown",
   "id": "e7dd2d7c",
   "metadata": {},
   "source": [
    " "
   ]
  },
  {
   "cell_type": "markdown",
   "id": "70b7dc08",
   "metadata": {},
   "source": [
    "# Model Evaluation"
   ]
  },
  {
   "cell_type": "code",
   "execution_count": 29,
   "id": "7d3bd563",
   "metadata": {},
   "outputs": [],
   "source": [
    "test, validation = train_test_split(testSpam,\n",
    "                                        test_size=0.5,\n",
    "                                        stratify=testSpam['CATEGORY'])"
   ]
  },
  {
   "cell_type": "code",
   "execution_count": 30,
   "id": "45c3137e",
   "metadata": {},
   "outputs": [],
   "source": [
    "sentences = []\n",
    "labels = []\n",
    "\n",
    "for index, row in test.iterrows():\n",
    "    sentences.append(row['MESSAGE'])\n",
    "    labels.append(row['CATEGORY'])"
   ]
  },
  {
   "cell_type": "code",
   "execution_count": 31,
   "id": "192f99c2",
   "metadata": {},
   "outputs": [
    {
     "name": "stdout",
     "output_type": "stream",
     "text": [
      "\n",
      "2022-05-29 13:54:12 Starting - Preparing the instances for training\n",
      "2022-05-29 13:54:12 Downloading - Downloading input data\n",
      "2022-05-29 13:54:12 Training - Training image download completed. Training in progress.\n",
      "2022-05-29 13:54:12 Uploading - Uploading generated training model\n",
      "2022-05-29 13:54:12 Completed - Training job completed\n"
     ]
    },
    {
     "name": "stderr",
     "output_type": "stream",
     "text": [
      "Warning: No metrics called train:mean_rho found\n"
     ]
    },
    {
     "data": {
      "text/html": [
       "<div>\n",
       "<style scoped>\n",
       "    .dataframe tbody tr th:only-of-type {\n",
       "        vertical-align: middle;\n",
       "    }\n",
       "\n",
       "    .dataframe tbody tr th {\n",
       "        vertical-align: top;\n",
       "    }\n",
       "\n",
       "    .dataframe thead th {\n",
       "        text-align: right;\n",
       "    }\n",
       "</style>\n",
       "<table border=\"1\" class=\"dataframe\">\n",
       "  <thead>\n",
       "    <tr style=\"text-align: right;\">\n",
       "      <th></th>\n",
       "      <th>timestamp</th>\n",
       "      <th>metric_name</th>\n",
       "      <th>value</th>\n",
       "    </tr>\n",
       "  </thead>\n",
       "  <tbody>\n",
       "    <tr>\n",
       "      <th>0</th>\n",
       "      <td>0.0</td>\n",
       "      <td>train:accuracy</td>\n",
       "      <td>0.1531</td>\n",
       "    </tr>\n",
       "    <tr>\n",
       "      <th>1</th>\n",
       "      <td>0.0</td>\n",
       "      <td>validation:accuracy</td>\n",
       "      <td>0.1615</td>\n",
       "    </tr>\n",
       "  </tbody>\n",
       "</table>\n",
       "</div>"
      ],
      "text/plain": [
       "   timestamp          metric_name   value\n",
       "0        0.0       train:accuracy  0.1531\n",
       "1        0.0  validation:accuracy  0.1615"
      ]
     },
     "execution_count": 31,
     "metadata": {},
     "output_type": "execute_result"
    }
   ],
   "source": [
    "bt_model.latest_training_job.wait(logs=False)\n",
    "bt_model.training_job_analytics.dataframe()"
   ]
  },
  {
   "cell_type": "code",
   "execution_count": 39,
   "id": "85d94f55",
   "metadata": {},
   "outputs": [
    {
     "name": "stdout",
     "output_type": "stream",
     "text": [
      "-------!"
     ]
    }
   ],
   "source": [
    "from sagemaker.serializers import JSONSerializer\n",
    "\n",
    "text_classifier = bt_model.deploy(\n",
    "    initial_instance_count=1,\n",
    "    instance_type='ml.m4.xlarge',\n",
    "    serializer=JSONSerializer())"
   ]
  },
  {
   "cell_type": "code",
   "execution_count": 40,
   "id": "bb36f14c",
   "metadata": {},
   "outputs": [
    {
     "data": {
      "text/plain": [
       "'blazingtext-2022-05-29-14-01-18-728'"
      ]
     },
     "execution_count": 40,
     "metadata": {},
     "output_type": "execute_result"
    }
   ],
   "source": [
    "text_classifier.endpoint_name"
   ]
  },
  {
   "cell_type": "code",
   "execution_count": 41,
   "id": "8203c55f",
   "metadata": {},
   "outputs": [],
   "source": [
    "from sklearn.metrics import confusion_matrix\n",
    "from sklearn.metrics import plot_confusion_matrix\n",
    "\n",
    "tokenized_sentences = [\" \".join(nltk.word_tokenize(sent)) for sent in sentences]\n",
    "\n",
    "payload = {\"instances\": tokenized_sentences}\n",
    "\n",
    "response = text_classifier.predict(payload)\n",
    "predictions = json.loads(response)\n",
    "\n",
    "#print(json.dumps(predictions, indent=2))"
   ]
  },
  {
   "cell_type": "code",
   "execution_count": 42,
   "id": "349d8811",
   "metadata": {},
   "outputs": [
    {
     "name": "stdout",
     "output_type": "stream",
     "text": [
      "[[245 145]\n",
      " [ 86 104]]\n"
     ]
    }
   ],
   "source": [
    "from sklearn.metrics import confusion_matrix\n",
    "from sklearn.metrics import plot_confusion_matrix\n",
    "\n",
    "cm = np.zeros((2,2), dtype=int)\n",
    "\n",
    "label_map = {\"__label__0\": 0, \"__label__1\": 1}\n",
    "i = 0\n",
    "for l in labels:\n",
    "    actual = l\n",
    "    predicted = predictions[i]['label'][0]\n",
    "    \n",
    "    commaIndex = predicted.index(\",\")\n",
    "    predicted = predicted[:commaIndex]\n",
    "    \n",
    "    act_idx = label_map[actual]\n",
    "    pre_idx = label_map[predicted]\n",
    "    cm[act_idx, pre_idx] += 1\n",
    "    i += 1\n",
    "\n",
    "print(cm)    \n",
    "\n",
    "\n",
    "# 0 is real email\n",
    "# 1 is spam email\n",
    "\n",
    "trueNegative = cm[0][0]\n",
    "falseNegative = cm[0][1]\n",
    "falsePositive = cm[1][0]\n",
    "truePositive = cm[1][1]\n",
    "\n",
    "sensitivity = truePositive / (truePositive + falseNegative)\n",
    "specificity = trueNegative / (trueNegative + falsePositive)\n",
    "accuracy = (truePositive + trueNegative) / (truePositive + trueNegative + falsePositive + falseNegative)\n",
    "precision = truePositive / (truePositive + falsePositive)\n",
    "recall = truePositive / (truePositive + falseNegative)\n",
    "fOneScore = (2 * precision * recall) / (precision + recall)\n",
    "\n",
    "#sensitivity = tp / (tp + fn)\n",
    "#[sensitivity] of spams were detected as spams\n",
    "\n",
    "#specificity = tn / (tn + fp)\n",
    "#[specificity]] of not spams were identified as not spam\n",
    "\n",
    "#accuracy = (tp + tn) / (tp + tn + fp + fn)\n",
    "\n",
    "#precision = tp / (tp + fp)\n",
    "\n",
    "#recall = tp / (tp + fn)\n",
    "\n",
    "#f1-score = (2*precision * recall) / (precision + recall)"
   ]
  },
  {
   "cell_type": "code",
   "execution_count": 43,
   "id": "d64d2d80",
   "metadata": {},
   "outputs": [
    {
     "data": {
      "image/png": "[encoded data removed]",
      "text/plain": [
       "<Figure size 288x288 with 2 Axes>"
      ]
     },
     "metadata": {
      "needs_background": "light"
     },
     "output_type": "display_data"
    }
   ],
   "source": [
    "def plot_confusion_matrix(df_confusion, title='Confusion matrix', cmap=\"Blues\"):\n",
    "    plt.matshow(df_confusion, cmap=cmap) # imshow\n",
    "    plt.title(\"Confusion Matrix for Spam and Non-Spam Emails\")\n",
    "    plt.colorbar()\n",
    "    #tick_marks = np.arrange(len(df_confusion.columns))\n",
    "    #plt.xticks(tick_marks, df_confusion.columns, rotation=45)\n",
    "    #plt.yticks(tick_marks, df_confusion.index)\n",
    "    for (i, j), z in np.ndenumerate(cm):\n",
    "        plt.text(j,i, f\"{z:.0f}\", va=\"center\", ha=\"center\")\n",
    "\n",
    "plot_confusion_matrix(cm)"
   ]
  },
  {
   "cell_type": "code",
   "execution_count": 44,
   "id": "fb9e5295",
   "metadata": {},
   "outputs": [
    {
     "name": "stdout",
     "output_type": "stream",
     "text": [
      "Non-spam emails are labeled as 0 while \n",
      "Spam emails are labeled as 1\n",
      "\n",
      "\n",
      "Sensitivity/Recall: 0.42\n",
      "Specificity: 0.74\n",
      "Accuracy: 0.60\n",
      "Precision: 0.55\n",
      "F1 Score: 0.47\n"
     ]
    }
   ],
   "source": [
    "print('Non-spam emails are labeled as 0 while \\nSpam emails are labeled as 1')\n",
    "print('\\n')\n",
    "print('Sensitivity/Recall: {:.2f}\\nSpecificity: {:.2f}\\nAccuracy: {:.2f}\\nPrecision: {:.2f}\\nF1 Score: {:.2f}'.format(sensitivity, specificity, accuracy, precision, fOneScore))"
   ]
  },
  {
   "cell_type": "code",
   "execution_count": 45,
   "id": "acd451ed",
   "metadata": {},
   "outputs": [],
   "source": [
    "text_classifier.delete_endpoint()"
   ]
  },
  {
   "cell_type": "code",
   "execution_count": null,
   "id": "829a3b7d",
   "metadata": {},
   "outputs": [],
   "source": []
  }
 ],
 "metadata": {
  "kernelspec": {
   "display_name": "conda_python3",
   "language": "python",
   "name": "conda_python3"
  },
  "language_info": {
   "codemirror_mode": {
    "name": "ipython",
    "version": 3
   },
   "file_extension": ".py",
   "mimetype": "text/x-python",
   "name": "python",
   "nbconvert_exporter": "python",
   "pygments_lexer": "ipython3",
   "version": "3.6.13"
  }
 },
 "nbformat": 4,
 "nbformat_minor": 5
}
